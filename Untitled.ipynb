{
 "cells": [
  {
   "cell_type": "code",
   "execution_count": 1,
   "metadata": {},
   "outputs": [
    {
     "data": {
      "text/plain": [
       "'<!-- Bootstrap v4.x stylesheet -->\\n<link rel=\"stylesheet\" href=\"css/bootstrap.min.css\">\\n<!-- bootstrap css theme -->\\n<link rel=\"stylesheet\" href=\"css/theme.bootstrap_4.css\">\\n\\n<script src=\"js/jquery.min.js\"></script>\\n<script src=\"js/jquery.tablesorter.js\"></script>\\n<script src=\"js/jquery.tablesorter.widgets.js\"></script>\\n\\n<!-- pager plugin -->\\n<link rel=\"stylesheet\" href=\"css/jquery.tablesorter.pager.css\">\\n<script src=\"js/jquery.tablesorter.pager.js\"></script>\\n<style>\\n.tablesorter-pager .btn-group-sm .btn {\\n  font-size: 1.2em; /* make pager arrows more visible */\\n}\\n</style>'"
      ]
     },
     "execution_count": 1,
     "metadata": {},
     "output_type": "execute_result"
    }
   ],
   "source": [
    "\"\"\"<!-- Bootstrap v4.x stylesheet -->\n",
    "<link rel=\"stylesheet\" href=\"css/bootstrap.min.css\">\n",
    "<!-- bootstrap css theme -->\n",
    "<link rel=\"stylesheet\" href=\"css/theme.bootstrap_4.css\">\n",
    "\n",
    "<script src=\"js/jquery.min.js\"></script>\n",
    "<script src=\"js/jquery.tablesorter.js\"></script>\n",
    "<script src=\"js/jquery.tablesorter.widgets.js\"></script>\n",
    "\n",
    "<!-- pager plugin -->\n",
    "<link rel=\"stylesheet\" href=\"css/jquery.tablesorter.pager.css\">\n",
    "<script src=\"js/jquery.tablesorter.pager.js\"></script>\n",
    "<style>\n",
    ".tablesorter-pager .btn-group-sm .btn {\n",
    "  font-size: 1.2em; /* make pager arrows more visible */\n",
    "}\n",
    "</style>\"\"\""
   ]
  },
  {
   "cell_type": "code",
   "execution_count": 5,
   "metadata": {},
   "outputs": [
    {
     "name": "stdout",
     "output_type": "stream",
     "text": [
      "[Errno 2] No such file or directory: 'Desktop'\n",
      "/home/anand/Desktop/mysite\n"
     ]
    }
   ],
   "source": [
    "cd Desktop"
   ]
  },
  {
   "cell_type": "code",
   "execution_count": 7,
   "metadata": {},
   "outputs": [
    {
     "ename": "OSError",
     "evalue": "[Errno 2] No such file or directory: '/Desktop'",
     "output_type": "error",
     "traceback": [
      "\u001b[0;31m---------------------------------------------------------------------------\u001b[0m",
      "\u001b[0;31mOSError\u001b[0m                                   Traceback (most recent call last)",
      "\u001b[0;32m<ipython-input-7-994771691327>\u001b[0m in \u001b[0;36m<module>\u001b[0;34m()\u001b[0m\n\u001b[1;32m      1\u001b[0m \u001b[0;32mimport\u001b[0m \u001b[0mglob\u001b[0m\u001b[0;34m,\u001b[0m \u001b[0mos\u001b[0m\u001b[0;34m\u001b[0m\u001b[0m\n\u001b[0;32m----> 2\u001b[0;31m \u001b[0mos\u001b[0m\u001b[0;34m.\u001b[0m\u001b[0mchdir\u001b[0m\u001b[0;34m(\u001b[0m\u001b[0;34m\"/Desktop\"\u001b[0m\u001b[0;34m)\u001b[0m\u001b[0;34m\u001b[0m\u001b[0m\n\u001b[0m\u001b[1;32m      3\u001b[0m \u001b[0;32mfor\u001b[0m \u001b[0mfile\u001b[0m \u001b[0;32min\u001b[0m \u001b[0mglob\u001b[0m\u001b[0;34m.\u001b[0m\u001b[0mglob\u001b[0m\u001b[0;34m(\u001b[0m\u001b[0;34m\"*.txt\"\u001b[0m\u001b[0;34m)\u001b[0m\u001b[0;34m:\u001b[0m\u001b[0;34m\u001b[0m\u001b[0m\n\u001b[1;32m      4\u001b[0m     \u001b[0;32mprint\u001b[0m\u001b[0;34m(\u001b[0m\u001b[0mfile\u001b[0m\u001b[0;34m)\u001b[0m\u001b[0;34m\u001b[0m\u001b[0m\n",
      "\u001b[0;31mOSError\u001b[0m: [Errno 2] No such file or directory: '/Desktop'"
     ]
    }
   ],
   "source": [
    "import glob, os\n",
    "os.chdir(\"/Desktop\")\n",
    "for file in glob.glob(\"*.txt\"):\n",
    "    print(file)"
   ]
  },
  {
   "cell_type": "code",
   "execution_count": null,
   "metadata": {},
   "outputs": [],
   "source": []
  }
 ],
 "metadata": {
  "kernelspec": {
   "display_name": "Python 2",
   "language": "python",
   "name": "python2"
  },
  "language_info": {
   "codemirror_mode": {
    "name": "ipython",
    "version": 2
   },
   "file_extension": ".py",
   "mimetype": "text/x-python",
   "name": "python",
   "nbconvert_exporter": "python",
   "pygments_lexer": "ipython2",
   "version": "2.7.12"
  }
 },
 "nbformat": 4,
 "nbformat_minor": 2
}
